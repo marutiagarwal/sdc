{
 "cells": [
  {
   "cell_type": "code",
   "execution_count": 1,
   "metadata": {
    "collapsed": true,
    "deletable": true,
    "editable": true
   },
   "outputs": [],
   "source": [
    "import os, csv\n",
    "import cv2\n",
    "import glob\n",
    "import numpy as np\n",
    "import numpy.random as nrand\n",
    "import random\n",
    "import math"
   ]
  },
  {
   "cell_type": "code",
   "execution_count": 2,
   "metadata": {
    "collapsed": false,
    "deletable": true,
    "editable": true
   },
   "outputs": [
    {
     "name": "stdout",
     "output_type": "stream",
     "text": [
      "cars_count =  25001\n"
     ]
    }
   ],
   "source": [
    "autti_images_data = {}\n",
    "cars_count = 0\n",
    "\n",
    "with open('datasets/object-dataset/labels.csv', 'rb') as csvfile:\n",
    "    reader = csv.reader(csvfile, delimiter=' ', quotechar='|')\n",
    "    for row in reader:\n",
    "        fname = row [0]\n",
    "        if (row[6] == '\"car\"'):\n",
    "            x1 = int(row [1])\n",
    "            y1 = int(row [2])\n",
    "            x2 = int(row [3])\n",
    "            y2 = int(row [4])\n",
    "            fname = os.path.join('datasets/object-dataset', fname)\n",
    "#             img = cv2.imread(fname)\n",
    "#             img_crop = img[y1:y2, x1:x2]\n",
    "#             img_crop = cv2.resize(img_crop, (64,64))\n",
    "#             cv2.imwrite(os.path.join('datasets/autti-vehicles', str(cars_count) + '.png'), img_crop)\n",
    "            cars_count += 1\n",
    "        if cars_count>10000:\n",
    "            break\n",
    "print 'cars_count = ',cars_count"
   ]
  },
  {
   "cell_type": "code",
   "execution_count": 3,
   "metadata": {
    "collapsed": true,
    "deletable": true,
    "editable": true
   },
   "outputs": [],
   "source": [
    "# imrotate_without_crop\n",
    "def imrotate(img, angleInDegree):\n",
    "    height = img.shape[0]\n",
    "    width = img.shape[1]\n",
    "    center = (int(img.shape[1]*0.5),int(img.shape[0]*0.5))\n",
    "    # compute a rotation matrix with respect to the center of the image\n",
    "    rot = cv2.getRotationMatrix2D(center, angleInDegree, 1.0)\n",
    "\n",
    "    radians = math.radians(angleInDegree)\n",
    "    sin = math.sin(radians)\n",
    "    cos = math.cos(radians)\n",
    "    bound_w = int((height * abs(sin)) + (width * abs(cos)))\n",
    "    bound_h = int((height * abs(cos)) + (width * abs(sin)))\n",
    "\n",
    "    rot[0, 2] += ((bound_w / 2) - center[0])\n",
    "    rot[1, 2] += ((bound_h / 2) - center[1])\n",
    "\n",
    "    img_rot = cv2.warpAffine(img, rot, (bound_w, bound_h), borderMode=cv2.BORDER_REFLECT_101, borderValue=(255,255,255))\n",
    "    return img_rot"
   ]
  },
  {
   "cell_type": "code",
   "execution_count": 4,
   "metadata": {
    "collapsed": false,
    "deletable": true,
    "editable": true
   },
   "outputs": [],
   "source": [
    "num_non_cars = 11000\n",
    "image_names = glob.glob('datasets/manual-collection/*.png')\n",
    "num_images = len(image_names)\n",
    "num_crops_per_image = num_non_cars/num_images\n",
    "maxRotAngleInDegrees = 10\n",
    "\n",
    "count = 0\n",
    "for fname in image_names:\n",
    "    img = cv2.imread(fname)\n",
    "    H,W = img.shape[:2]\n",
    "    for x in range(num_crops_per_image):\n",
    "        x1 = random.randint(0, W/2)\n",
    "        x2 = random.randint(W/2, W-1)\n",
    "        y1 = random.randint(0, H/2)\n",
    "        y2 = random.randint(H/2, H-1)\n",
    "        img_crop = img[y1:y2, x1:x2]\n",
    "        if img_crop.shape[0]<50 or img_crop.shape[1]<50:\n",
    "            continue\n",
    "        img_crop = imrotate(img_crop, random.randint(-maxRotAngleInDegrees,maxRotAngleInDegrees))\n",
    "        img_crop = cv2.resize(img_crop, (64,64))\n",
    "        cv2.imwrite(os.path.join('datasets/manual-non-vehicles', str(count) + '.png'), img_crop)\n",
    "        count += 1\n",
    "    \n",
    "#         if count>100:\n",
    "#             break\n",
    "        \n",
    "    "
   ]
  }
 ],
 "metadata": {
  "kernelspec": {
   "display_name": "Python 2",
   "language": "python",
   "name": "python2"
  },
  "language_info": {
   "codemirror_mode": {
    "name": "ipython",
    "version": 2
   },
   "file_extension": ".py",
   "mimetype": "text/x-python",
   "name": "python",
   "nbconvert_exporter": "python",
   "pygments_lexer": "ipython2",
   "version": "2.7.6"
  }
 },
 "nbformat": 4,
 "nbformat_minor": 2
}
